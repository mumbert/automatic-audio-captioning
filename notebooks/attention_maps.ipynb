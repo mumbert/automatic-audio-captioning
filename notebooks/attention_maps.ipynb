{
 "cells": [
  {
   "cell_type": "markdown",
   "metadata": {},
   "source": [
    "# 🎙️ Attention maps tensorboard\n",
    "\n",
    "---\n",
    "\n",
    "This notebook helps to create an easy environment to explore the tensorboard created while training the DCASE baseline model with the necessary modifications to:\n",
    "- log the creation of the attention maps\n",
    "- log the alignment between the decoded words and the time-stamps with the highest weight for each of them\n",
    "\n",
    "## Usage\n",
    "\n",
    "In order to directly visualize this page into a google colab you can do it in 2 different ways:\n",
    "- clone this repository and open this file locally, or\n",
    "- Change this page domain from 'github.com' to 'githubtocolab.com', so open the following link: "
   ]
  },
  {
   "cell_type": "code",
   "execution_count": 9,
   "metadata": {},
   "outputs": [
    {
     "name": "stderr",
     "output_type": "stream",
     "text": [
      "Downloading...\n",
      "From (original): https://drive.google.com/uc?id=1GeCo-OS-h5oNkwQ7ZELOZnZ0uTxQukFk\n",
      "From (redirected): https://drive.google.com/uc?id=1GeCo-OS-h5oNkwQ7ZELOZnZ0uTxQukFk&confirm=t&uuid=0fd2b65a-cf50-4258-9bf8-61fee989c574\n",
      "To: /home/mumbert/Documentos/BSC/doc/personal/postgrau/automatic-audio-captioning/tmp/tensorboard.zip\n",
      "100%|██████████| 2.37G/2.37G [05:13<00:00, 7.56MB/s]\n"
     ]
    },
    {
     "name": "stdout",
     "output_type": "stream",
     "text": [
      "Data downloaded and extracted successfully!\n"
     ]
    }
   ],
   "source": [
    "import gdown\n",
    "import zipfile\n",
    "import os\n",
    "\n",
    "ID=\"1GeCo-OS-h5oNkwQ7ZELOZnZ0uTxQukFk\"\n",
    "ZIP_URL=\"https://drive.google.com/uc?id=\"+ID\n",
    "\n",
    "os.makedirs(\"tmp\", exist_ok=True)\n",
    "gdown.download(ZIP_URL, \"tmp/tensorboard.zip\", quiet=False)\n",
    "\n",
    "with zipfile.ZipFile(\"tmp/tensorboard.zip\", 'r') as zip_ref:\n",
    "    zip_ref.extractall(\"tmp\")\n",
    "\n",
    "os.remove(\"tmp/tensorboard.zip\")\n",
    "print(\"Data downloaded and extracted successfully!\")"
   ]
  },
  {
   "cell_type": "code",
   "execution_count": null,
   "metadata": {},
   "outputs": [
    {
     "data": {
      "text/plain": [
       "Reusing TensorBoard on port 6008 (pid 424977), started 0:22:55 ago. (Use '!kill 424977' to kill it.)"
      ]
     },
     "metadata": {},
     "output_type": "display_data"
    },
    {
     "data": {
      "text/html": [
       "\n",
       "      <iframe id=\"tensorboard-frame-40140ec06d29ed96\" width=\"100%\" height=\"800\" frameborder=\"0\">\n",
       "      </iframe>\n",
       "      <script>\n",
       "        (function() {\n",
       "          const frame = document.getElementById(\"tensorboard-frame-40140ec06d29ed96\");\n",
       "          const url = new URL(\"http://localhost\");\n",
       "          const port = 6008;\n",
       "          if (port) {\n",
       "            url.port = port;\n",
       "          }\n",
       "          frame.src = url;\n",
       "        })();\n",
       "      </script>\n",
       "    "
      ],
      "text/plain": [
       "<IPython.core.display.HTML object>"
      ]
     },
     "metadata": {},
     "output_type": "display_data"
    }
   ],
   "source": [
    "# Load the TensorBoard notebook extension\n",
    "%reload_ext tensorboard\n",
    "import tensorflow as tf\n",
    "import tensorboard as tb\n",
    "%tensorboard --logdir tmp/tensorboard/logs/"
   ]
  },
  {
   "cell_type": "code",
   "execution_count": 18,
   "metadata": {},
   "outputs": [],
   "source": [
    "from tensorboard import notebook"
   ]
  },
  {
   "cell_type": "code",
   "execution_count": null,
   "metadata": {},
   "outputs": [
    {
     "name": "stdout",
     "output_type": "stream",
     "text": [
      "Known TensorBoard instances:\n",
      "  - port 6006: logdir tmp/tensoarboard/logs/train-2025.03.06-21.14.29-baseline (started 0:09:16 ago; pid 436606)\n",
      "  - port 6006: logdir tmp/tensoarboard/logs/ (started 0:11:14 ago; pid 434474)\n",
      "  - port 6007: logdir tmp/tensoarboard/logs/train-2025.03.06-21.14.29-baseline (started 0:24:51 ago; pid 419444)\n",
      "  - port 6008: logdir tmp/tensoarboard/logs/ (started 0:19:20 ago; pid 424977)\n",
      "  - port 6006: logdir tmp/tensoarboard/logs (started 0:27:41 ago; pid 416121)\n",
      "Selecting TensorBoard with logdir tmp/tensoarboard/logs/train-2025.03.06-21.14.29-baseline (started 0:09:16 ago; port 6006, pid 436606).\n"
     ]
    },
    {
     "data": {
      "text/html": [
       "\n",
       "      <iframe id=\"tensorboard-frame-a51f6faf094eadda\" width=\"100%\" height=\"1000\" frameborder=\"0\">\n",
       "      </iframe>\n",
       "      <script>\n",
       "        (function() {\n",
       "          const frame = document.getElementById(\"tensorboard-frame-a51f6faf094eadda\");\n",
       "          const url = new URL(\"http://localhost\");\n",
       "          const port = 6006;\n",
       "          if (port) {\n",
       "            url.port = port;\n",
       "          }\n",
       "          frame.src = url;\n",
       "        })();\n",
       "      </script>\n",
       "    "
      ],
      "text/plain": [
       "<IPython.core.display.HTML object>"
      ]
     },
     "metadata": {},
     "output_type": "display_data"
    }
   ],
   "source": []
  }
 ],
 "metadata": {
  "kernelspec": {
   "display_name": "base",
   "language": "python",
   "name": "python3"
  },
  "language_info": {
   "codemirror_mode": {
    "name": "ipython",
    "version": 3
   },
   "file_extension": ".py",
   "mimetype": "text/x-python",
   "name": "python",
   "nbconvert_exporter": "python",
   "pygments_lexer": "ipython3",
   "version": "3.12.8"
  }
 },
 "nbformat": 4,
 "nbformat_minor": 2
}
